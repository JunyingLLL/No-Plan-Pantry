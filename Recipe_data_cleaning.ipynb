{
 "cells": [
  {
   "cell_type": "code",
   "execution_count": 7,
   "metadata": {},
   "outputs": [],
   "source": [
    "# pip install transformers torch"
   ]
  },
  {
   "cell_type": "code",
   "execution_count": 8,
   "metadata": {},
   "outputs": [],
   "source": [
    "# pip install tensorflow"
   ]
  },
  {
   "cell_type": "code",
   "execution_count": 9,
   "metadata": {},
   "outputs": [],
   "source": [
    "# pip install tensorflow transformers"
   ]
  },
  {
   "cell_type": "code",
   "execution_count": 10,
   "metadata": {},
   "outputs": [],
   "source": [
    "# pip install tf-keras"
   ]
  },
  {
   "cell_type": "code",
   "execution_count": 190,
   "metadata": {},
   "outputs": [],
   "source": [
    "import re\n",
    "import numpy as np\n",
    "import pandas as pd\n",
    "from collections import Counter\n",
    "\n",
    "import keras\n",
    "import transformers\n",
    "import tensorflow as tf\n",
    "from tensorflow.keras.models import load_model\n",
    "from transformers import TFBertModel, BertTokenizer\n",
    "from sklearn.model_selection import train_test_split\n",
    "from tensorflow.keras.layers import Dense, Dropout, GlobalAveragePooling1D"
   ]
  },
  {
   "cell_type": "markdown",
   "metadata": {},
   "source": [
    "# Data Importing"
   ]
  },
  {
   "cell_type": "code",
   "execution_count": 12,
   "metadata": {},
   "outputs": [],
   "source": [
    "# Import dataset\n",
    "recipe_link = \"https://raw.githubusercontent.com/jade-y-liang/pic16b-project/refs/heads/main/Recipes.csv\"\n",
    "recipes = pd.read_csv(recipe_link)"
   ]
  },
  {
   "cell_type": "code",
   "execution_count": 13,
   "metadata": {},
   "outputs": [
    {
     "data": {
      "text/html": [
       "<div>\n",
       "<style scoped>\n",
       "    .dataframe tbody tr th:only-of-type {\n",
       "        vertical-align: middle;\n",
       "    }\n",
       "\n",
       "    .dataframe tbody tr th {\n",
       "        vertical-align: top;\n",
       "    }\n",
       "\n",
       "    .dataframe thead th {\n",
       "        text-align: right;\n",
       "    }\n",
       "</style>\n",
       "<table border=\"1\" class=\"dataframe\">\n",
       "  <thead>\n",
       "    <tr style=\"text-align: right;\">\n",
       "      <th></th>\n",
       "      <th>recipe_name</th>\n",
       "      <th>category_name</th>\n",
       "      <th>rating</th>\n",
       "      <th>prep_time</th>\n",
       "      <th>cook_time</th>\n",
       "      <th>total_time</th>\n",
       "      <th>num_servings_per_recipe</th>\n",
       "      <th>ingredients_list</th>\n",
       "      <th>direction_list</th>\n",
       "      <th>calories_per_serving</th>\n",
       "      <th>...</th>\n",
       "      <th>protein (g)</th>\n",
       "      <th>carbs (g)</th>\n",
       "      <th>fiber (g)</th>\n",
       "      <th>sugar (g)</th>\n",
       "      <th>cholesterol (mg)</th>\n",
       "      <th>vitamin_c (mg)</th>\n",
       "      <th>calcium (mg)</th>\n",
       "      <th>iron (mg)</th>\n",
       "      <th>potassium (mg)</th>\n",
       "      <th>recipe_link</th>\n",
       "    </tr>\n",
       "  </thead>\n",
       "  <tbody>\n",
       "    <tr>\n",
       "      <th>0</th>\n",
       "      <td>Air Fryer Spicy Onion Rings</td>\n",
       "      <td>Air Fryer Recipes\\n</td>\n",
       "      <td>5.0</td>\n",
       "      <td>20 mins</td>\n",
       "      <td>10 mins</td>\n",
       "      <td>1 hr</td>\n",
       "      <td>4</td>\n",
       "      <td>sweet onions, sliced 1/2 inch thick,buttermilk...</td>\n",
       "      <td>Whisk together buttermilk, egg, flour, chile ...</td>\n",
       "      <td>230.0</td>\n",
       "      <td>...</td>\n",
       "      <td>10g</td>\n",
       "      <td>53g</td>\n",
       "      <td>2g</td>\n",
       "      <td>NaN</td>\n",
       "      <td>48mg</td>\n",
       "      <td>NaN</td>\n",
       "      <td>NaN</td>\n",
       "      <td>NaN</td>\n",
       "      <td>197mg</td>\n",
       "      <td>https://www.allrecipes.com/recipe/8465728/air-...</td>\n",
       "    </tr>\n",
       "    <tr>\n",
       "      <th>1</th>\n",
       "      <td>Stuffed Chicken Cordon Bleu</td>\n",
       "      <td>Chicken Cordon Bleu\\n</td>\n",
       "      <td>5.0</td>\n",
       "      <td>20 mins</td>\n",
       "      <td>40 mins</td>\n",
       "      <td>1 hr 15 mins</td>\n",
       "      <td>4</td>\n",
       "      <td>skinless, boneless chicken breast halves,bacon...</td>\n",
       "      <td>Preheat the oven to 400 degrees F (200 degree...</td>\n",
       "      <td>877.0</td>\n",
       "      <td>...</td>\n",
       "      <td>66g</td>\n",
       "      <td>44g</td>\n",
       "      <td>3g</td>\n",
       "      <td>8g</td>\n",
       "      <td>291mg</td>\n",
       "      <td>3mg</td>\n",
       "      <td>636mg</td>\n",
       "      <td>4mg</td>\n",
       "      <td>969mg</td>\n",
       "      <td>https://www.allrecipes.com/recipe/283793/stuff...</td>\n",
       "    </tr>\n",
       "    <tr>\n",
       "      <th>2</th>\n",
       "      <td>Hearty Chicken Cacciatore Soup with Rice</td>\n",
       "      <td>Chicken Cacciatore\\n</td>\n",
       "      <td>NaN</td>\n",
       "      <td>10 mins</td>\n",
       "      <td>1 hr 45 mins</td>\n",
       "      <td>1 hr 55 mins</td>\n",
       "      <td>10</td>\n",
       "      <td>chicken broth,condensed tomato soup,water,dice...</td>\n",
       "      <td>Combine chicken broth, condensed soup, 2 cans...</td>\n",
       "      <td>250.0</td>\n",
       "      <td>...</td>\n",
       "      <td>15g</td>\n",
       "      <td>35g</td>\n",
       "      <td>2g</td>\n",
       "      <td>NaN</td>\n",
       "      <td>38mg</td>\n",
       "      <td>NaN</td>\n",
       "      <td>NaN</td>\n",
       "      <td>NaN</td>\n",
       "      <td>406mg</td>\n",
       "      <td>https://www.allrecipes.com/recipe/8300735/hear...</td>\n",
       "    </tr>\n",
       "    <tr>\n",
       "      <th>3</th>\n",
       "      <td>Chicken and Dumplings with Biscuits</td>\n",
       "      <td>Chicken and Dumplings\\n</td>\n",
       "      <td>4.1</td>\n",
       "      <td>NaN</td>\n",
       "      <td>NaN</td>\n",
       "      <td>NaN</td>\n",
       "      <td>8</td>\n",
       "      <td>whole chicken, cut into pieces,salt,freshly gr...</td>\n",
       "      <td>Put chicken pieces in a large pot over medium...</td>\n",
       "      <td>696.0</td>\n",
       "      <td>...</td>\n",
       "      <td>37g</td>\n",
       "      <td>86g</td>\n",
       "      <td>6g</td>\n",
       "      <td>5g</td>\n",
       "      <td>106mg</td>\n",
       "      <td>49mg</td>\n",
       "      <td>64mg</td>\n",
       "      <td>5mg</td>\n",
       "      <td>1398mg</td>\n",
       "      <td>https://www.allrecipes.com/recipe/8810/chicken...</td>\n",
       "    </tr>\n",
       "    <tr>\n",
       "      <th>4</th>\n",
       "      <td>Margo's Chicken Adobo</td>\n",
       "      <td>Chicken Adobo\\n</td>\n",
       "      <td>4.5</td>\n",
       "      <td>10 mins</td>\n",
       "      <td>1 hr</td>\n",
       "      <td>1 hr 10 mins</td>\n",
       "      <td>8</td>\n",
       "      <td>canola oil,chicken drumsticks and thighs,onion...</td>\n",
       "      <td>Heat canola oil in a large Dutch oven over me...</td>\n",
       "      <td>323.0</td>\n",
       "      <td>...</td>\n",
       "      <td>30g</td>\n",
       "      <td>7g</td>\n",
       "      <td>1g</td>\n",
       "      <td>2g</td>\n",
       "      <td>96mg</td>\n",
       "      <td>3mg</td>\n",
       "      <td>40mg</td>\n",
       "      <td>3mg</td>\n",
       "      <td>347mg</td>\n",
       "      <td>https://www.allrecipes.com/recipe/218510/margo...</td>\n",
       "    </tr>\n",
       "  </tbody>\n",
       "</table>\n",
       "<p>5 rows × 23 columns</p>\n",
       "</div>"
      ],
      "text/plain": [
       "                                recipe_name             category_name  rating  \\\n",
       "0               Air Fryer Spicy Onion Rings       Air Fryer Recipes\\n     5.0   \n",
       "1               Stuffed Chicken Cordon Bleu     Chicken Cordon Bleu\\n     5.0   \n",
       "2  Hearty Chicken Cacciatore Soup with Rice      Chicken Cacciatore\\n     NaN   \n",
       "3       Chicken and Dumplings with Biscuits   Chicken and Dumplings\\n     4.1   \n",
       "4                     Margo's Chicken Adobo           Chicken Adobo\\n     4.5   \n",
       "\n",
       "  prep_time      cook_time     total_time num_servings_per_recipe  \\\n",
       "0   20 mins        10 mins           1 hr                      4    \n",
       "1   20 mins        40 mins   1 hr 15 mins                      4    \n",
       "2   10 mins   1 hr 45 mins   1 hr 55 mins                     10    \n",
       "3       NaN            NaN            NaN                      8    \n",
       "4   10 mins           1 hr   1 hr 10 mins                      8    \n",
       "\n",
       "                                    ingredients_list  \\\n",
       "0  sweet onions, sliced 1/2 inch thick,buttermilk...   \n",
       "1  skinless, boneless chicken breast halves,bacon...   \n",
       "2  chicken broth,condensed tomato soup,water,dice...   \n",
       "3  whole chicken, cut into pieces,salt,freshly gr...   \n",
       "4  canola oil,chicken drumsticks and thighs,onion...   \n",
       "\n",
       "                                      direction_list  calories_per_serving  \\\n",
       "0   Whisk together buttermilk, egg, flour, chile ...                 230.0   \n",
       "1   Preheat the oven to 400 degrees F (200 degree...                 877.0   \n",
       "2   Combine chicken broth, condensed soup, 2 cans...                 250.0   \n",
       "3   Put chicken pieces in a large pot over medium...                 696.0   \n",
       "4   Heat canola oil in a large Dutch oven over me...                 323.0   \n",
       "\n",
       "   ... protein (g) carbs (g) fiber (g) sugar (g) cholesterol (mg)  \\\n",
       "0  ...         10g       53g        2g       NaN             48mg   \n",
       "1  ...         66g       44g        3g        8g            291mg   \n",
       "2  ...         15g       35g        2g       NaN             38mg   \n",
       "3  ...         37g       86g        6g        5g            106mg   \n",
       "4  ...         30g        7g        1g        2g             96mg   \n",
       "\n",
       "  vitamin_c (mg) calcium (mg) iron (mg) potassium (mg)  \\\n",
       "0            NaN          NaN       NaN          197mg   \n",
       "1            3mg        636mg       4mg          969mg   \n",
       "2            NaN          NaN       NaN          406mg   \n",
       "3           49mg         64mg       5mg         1398mg   \n",
       "4            3mg         40mg       3mg          347mg   \n",
       "\n",
       "                                         recipe_link  \n",
       "0  https://www.allrecipes.com/recipe/8465728/air-...  \n",
       "1  https://www.allrecipes.com/recipe/283793/stuff...  \n",
       "2  https://www.allrecipes.com/recipe/8300735/hear...  \n",
       "3  https://www.allrecipes.com/recipe/8810/chicken...  \n",
       "4  https://www.allrecipes.com/recipe/218510/margo...  \n",
       "\n",
       "[5 rows x 23 columns]"
      ]
     },
     "execution_count": 13,
     "metadata": {},
     "output_type": "execute_result"
    }
   ],
   "source": [
    "# Check if the dataset is loaded correctly\n",
    "recipes.head()"
   ]
  },
  {
   "cell_type": "markdown",
   "metadata": {},
   "source": [
    "# Data Cleaning"
   ]
  },
  {
   "cell_type": "code",
   "execution_count": 14,
   "metadata": {},
   "outputs": [
    {
     "data": {
      "text/plain": [
       "(15198, 23)"
      ]
     },
     "execution_count": 14,
     "metadata": {},
     "output_type": "execute_result"
    }
   ],
   "source": [
    "recipes.shape"
   ]
  },
  {
   "cell_type": "code",
   "execution_count": 15,
   "metadata": {},
   "outputs": [
    {
     "data": {
      "text/plain": [
       "recipe_name                 0.00\n",
       "category_name               0.00\n",
       "rating                     11.05\n",
       "prep_time                   7.69\n",
       "cook_time                  20.16\n",
       "total_time                  7.18\n",
       "num_servings_per_recipe     4.78\n",
       "ingredients_list            4.70\n",
       "direction_list              4.72\n",
       "calories_per_serving        5.96\n",
       "total_fat (g)               7.05\n",
       "saturated_fat (g)           9.88\n",
       "sodium (mg)                 5.98\n",
       "protein (g)                 6.28\n",
       "carbs (g)                   6.05\n",
       "fiber (g)                   8.47\n",
       "sugar (g)                  11.51\n",
       "cholesterol (mg)           19.50\n",
       "vitamin_c (mg)             17.81\n",
       "calcium (mg)                8.65\n",
       "iron (mg)                   9.59\n",
       "potassium (mg)              6.00\n",
       "recipe_link                 0.00\n",
       "dtype: float64"
      ]
     },
     "execution_count": 15,
     "metadata": {},
     "output_type": "execute_result"
    }
   ],
   "source": [
    "# Check for NaN values\n",
    "round(recipes.isna().sum() / len(recipes) * 100, 2)"
   ]
  },
  {
   "cell_type": "code",
   "execution_count": 16,
   "metadata": {},
   "outputs": [],
   "source": [
    "# Drop rows where 'ingredients_list' and 'direction_list' columns are NaN\n",
    "recipes= recipes.dropna(subset=['ingredients_list', 'direction_list'], how = 'any').reset_index(drop=True)\n"
   ]
  },
  {
   "cell_type": "code",
   "execution_count": 17,
   "metadata": {},
   "outputs": [
    {
     "data": {
      "text/plain": [
       "0"
      ]
     },
     "execution_count": 17,
     "metadata": {},
     "output_type": "execute_result"
    }
   ],
   "source": [
    "# Check for duplicates\n",
    "recipes.duplicated().sum()"
   ]
  },
  {
   "cell_type": "markdown",
   "metadata": {},
   "source": [
    "### Modify Category Names"
   ]
  },
  {
   "cell_type": "code",
   "execution_count": 18,
   "metadata": {},
   "outputs": [],
   "source": [
    "# Remove newline characters from all strings in a specific column\n",
    "recipes['category_name'] = recipes['category_name'].str.replace('\\n', '', regex=False)"
   ]
  },
  {
   "cell_type": "markdown",
   "metadata": {},
   "source": [
    "### Modify Direction Column"
   ]
  },
  {
   "cell_type": "code",
   "execution_count": 19,
   "metadata": {},
   "outputs": [],
   "source": [
    "recipes['direction_list'] = recipes['direction_list'].astype(str)"
   ]
  },
  {
   "cell_type": "code",
   "execution_count": 20,
   "metadata": {},
   "outputs": [],
   "source": [
    "# Apply the replacement of \\\\n across the direction_list column\n",
    "recipes['direction_list'] = recipes['direction_list'].str.replace(\"\\n,\", '\\n')"
   ]
  },
  {
   "cell_type": "markdown",
   "metadata": {},
   "source": [
    "### Modify Nutrition Columns"
   ]
  },
  {
   "cell_type": "code",
   "execution_count": 21,
   "metadata": {},
   "outputs": [],
   "source": [
    "nutrition_cols = [ 'total_fat (g)', 'saturated_fat (g)', 'sodium (mg)', 'protein (g)', \n",
    "                  'carbs (g)', 'fiber (g)', 'sugar (g)', 'cholesterol (mg)', \n",
    "                  'vitamin_c (mg)', 'calcium (mg)', 'iron (mg)', 'potassium (mg)']\n"
   ]
  },
  {
   "cell_type": "code",
   "execution_count": 22,
   "metadata": {},
   "outputs": [],
   "source": [
    "# Handle missing values \n",
    "# Fill NaN values in the specified columns with 0\n",
    "recipes[nutrition_cols] = recipes[nutrition_cols].fillna(0)"
   ]
  },
  {
   "cell_type": "code",
   "execution_count": 23,
   "metadata": {},
   "outputs": [],
   "source": [
    "# Function to remove units and convert to float\n",
    "def remove_units(value):\n",
    "    if isinstance(value, str):\n",
    "        # Extract numeric part using regex\n",
    "        numeric_part = re.search(r'[\\d.]+', value)\n",
    "        if numeric_part:\n",
    "            return float(numeric_part.group(0)) \n",
    "    return float('nan') \n"
   ]
  },
  {
   "cell_type": "code",
   "execution_count": 24,
   "metadata": {},
   "outputs": [],
   "source": [
    "# Apply the function to each relevant column\n",
    "for col in nutrition_cols:\n",
    "    recipes[col] = recipes[col].apply(remove_units)"
   ]
  },
  {
   "cell_type": "markdown",
   "metadata": {},
   "source": [
    "### Extracting Main Ingredients from Ingredients List by NLP"
   ]
  },
  {
   "cell_type": "code",
   "execution_count": 25,
   "metadata": {},
   "outputs": [],
   "source": [
    "# Understand the structure of ingredients list\n",
    "# Stop words to ignore\n",
    "stop_words = {'and', 'or', 'with', 'in', 'on', 'to', 'of', 'for', 'as', 'the', 'a', 'an'}\n",
    "\n",
    "# Function to count all word occurrences\n",
    "def count_word_occurrences(ingredient_strings):\n",
    "    all_words = []\n",
    "    for ingredient_string in ingredient_strings:\n",
    "        if isinstance(ingredient_string, str):\n",
    "            # Normalize text\n",
    "            # Remove punctuation\n",
    "            ingredient_string = re.sub(r'[^\\w\\s]', '', ingredient_string.lower()) \n",
    "            # Tokenize words\n",
    "            words = ingredient_string.split() \n",
    "            # Remove stop words\n",
    "            filtered_words = [word for word in words if word not in stop_words] \n",
    "            all_words.extend(filtered_words) \n",
    "    # Count frequencies\n",
    "    return Counter(all_words)\n",
    "\n",
    "# Count word occurrences for all recipes\n",
    "ingredients_counts = count_word_occurrences(recipes['ingredients_list'])\n",
    "\n",
    "# Convert to a DataFrame for better visualization\n",
    "ingredients_counts = (\n",
    "    pd.DataFrame(ingredients_counts.items(), columns=['Word', 'Count'])\n",
    "    .sort_values(by='Count', ascending=False)  # Sort the DataFrame by 'Count'\n",
    "    .reset_index(drop=True)  # Reset the index and drop the old one\n",
    ")"
   ]
  },
  {
   "cell_type": "code",
   "execution_count": 26,
   "metadata": {},
   "outputs": [
    {
     "data": {
      "text/html": [
       "<div>\n",
       "<style scoped>\n",
       "    .dataframe tbody tr th:only-of-type {\n",
       "        vertical-align: middle;\n",
       "    }\n",
       "\n",
       "    .dataframe tbody tr th {\n",
       "        vertical-align: top;\n",
       "    }\n",
       "\n",
       "    .dataframe thead th {\n",
       "        text-align: right;\n",
       "    }\n",
       "</style>\n",
       "<table border=\"1\" class=\"dataframe\">\n",
       "  <thead>\n",
       "    <tr style=\"text-align: right;\">\n",
       "      <th></th>\n",
       "      <th>Word</th>\n",
       "      <th>Count</th>\n",
       "    </tr>\n",
       "  </thead>\n",
       "  <tbody>\n",
       "    <tr>\n",
       "      <th>0</th>\n",
       "      <td>pepper</td>\n",
       "      <td>5230</td>\n",
       "    </tr>\n",
       "    <tr>\n",
       "      <th>1</th>\n",
       "      <td>black</td>\n",
       "      <td>4190</td>\n",
       "    </tr>\n",
       "    <tr>\n",
       "      <th>2</th>\n",
       "      <td>ground</td>\n",
       "      <td>2741</td>\n",
       "    </tr>\n",
       "    <tr>\n",
       "      <th>3</th>\n",
       "      <td>fresh</td>\n",
       "      <td>2672</td>\n",
       "    </tr>\n",
       "    <tr>\n",
       "      <th>4</th>\n",
       "      <td>cheese</td>\n",
       "      <td>2627</td>\n",
       "    </tr>\n",
       "    <tr>\n",
       "      <th>5</th>\n",
       "      <td>into</td>\n",
       "      <td>2625</td>\n",
       "    </tr>\n",
       "    <tr>\n",
       "      <th>6</th>\n",
       "      <td>cut</td>\n",
       "      <td>2398</td>\n",
       "    </tr>\n",
       "    <tr>\n",
       "      <th>7</th>\n",
       "      <td>taste</td>\n",
       "      <td>1972</td>\n",
       "    </tr>\n",
       "    <tr>\n",
       "      <th>8</th>\n",
       "      <td>more</td>\n",
       "      <td>1796</td>\n",
       "    </tr>\n",
       "    <tr>\n",
       "      <th>9</th>\n",
       "      <td>peeled</td>\n",
       "      <td>1758</td>\n",
       "    </tr>\n",
       "  </tbody>\n",
       "</table>\n",
       "</div>"
      ],
      "text/plain": [
       "     Word  Count\n",
       "0  pepper   5230\n",
       "1   black   4190\n",
       "2  ground   2741\n",
       "3   fresh   2672\n",
       "4  cheese   2627\n",
       "5    into   2625\n",
       "6     cut   2398\n",
       "7   taste   1972\n",
       "8    more   1796\n",
       "9  peeled   1758"
      ]
     },
     "execution_count": 26,
     "metadata": {},
     "output_type": "execute_result"
    }
   ],
   "source": [
    "ingredients_counts.head(10)"
   ]
  },
  {
   "cell_type": "code",
   "execution_count": 27,
   "metadata": {},
   "outputs": [],
   "source": [
    "# Define keywords (ingredients to include) and stop words (to exclude)\n",
    "keywords = ['chicken', 'onion', 'tomatoes', 'bread', 'bean', 'bell pepper', 'red pepper', 'sweet pepper' \n",
    "            'lemon', 'beef', 'pork', 'mushroom', 'rice', 'basil', 'cilantro',\n",
    "            'egg', 'milk', 'spinach', 'shrimp', 'orange', 'lime', 'sausage', 'bacon', 'pineapple',\n",
    "            'peanut', 'strawberr', 'coconut', 'pecan', 'apple', 'potato', 'squash', \n",
    "            'jalapeno', 'lettuce', 'tortilla', 'pea', 'amaranth', 'apricot', 'avocado',\n",
    "            'banana', 'barley', 'brisket', 'wheat', 'duck', 'fish', 'flax seed', 'goat',\n",
    "            'turkey', 'lamb', 'mango', 'oat', 'peach', 'pear', 'plum', 'pomegranate', \n",
    "            'salmon', 'shrimp', 'lobster', 'sardine', 'catfish', 'tuna', 'eel ', \n",
    "            'anchovy', 'cucumber', 'eggplant', 'kale', 'lemongrass', 'leek', 'radish', \n",
    "            'cauliflower', 'cabbage', 'asparagus', 'broccoli', 'endive', 'okra', 'sweet potato',\n",
    "            'brussels sprouts', 'leek', 'carrot', 'green beans', 'beet', 'bok choy',\n",
    "            'spinach', 'pumpkin', 'cranberr', 'parsnip', 'grape', 'grapefruit', 'turnip', 'honeydew melon',\n",
    "            'rhubarb', 'blackberr', 'cantaloupe', 'cherr', 'kiwi', 'plum', 'zucchini', \n",
    "            'corn', 'cheese', 'chocolate', 'flour']\n",
    "# keywords = ['chicken', 'onion', 'tomato', 'bread', 'bean', 'bell pepper',\n",
    "#             'lemon', 'beef', 'pork', 'mushroom', 'rice', 'basil', 'cilantro',\n",
    "#             'egg', 'milk', 'spinach', 'shrimp', 'orange', 'lime', 'sausage', 'bacon', 'pineapple',\n",
    "#             'peanut', 'strawberr', 'coconut', 'pecan', 'apple', 'potato', 'squash', \n",
    "#             'jalapeno', 'lettuce', 'tortilla', 'pea', 'amaranth', 'apricot', 'avocado',\n",
    "#             'banana', 'barley', 'brisket', 'wheat', 'bulgur', 'cherr', 'chia seed', 'duck',\n",
    "#             'fish', 'flax seed', 'goat', 'turkey', 'lamb', 'mango', 'millet', 'nectarine',\n",
    "#             'oat', 'peach', 'pear', 'plum', 'pomegranate', 'quinoa', 'seafood', 'shellfish',\n",
    "#             'shell', 'sirloin', 'spelt', 'veal', 'venison', 'octopus', 'sturgeon', \n",
    "#             'squid', 'salmon', 'oyster', 'shrimp', 'lobster', 'caviar', 'carp', 'flounder',\n",
    "#             'crab', 'sardine', 'catfish', 'tuna', 'eel ', 'anchovy', 'collard', 'coriander',\n",
    "#             'cucumber', 'eggplant', 'endive', 'escarole', 'daikon', 'delicata', 'eddoe', 'fennel',\n",
    "#             'kale', 'jicama', 'ginger', 'lemongrass', 'leek', 'habanero', 'radish', 'parsnip',\n",
    "#             'artichoke', 'cauliflower', 'cabbage', 'asparagus', 'kohlrabi',\n",
    "#             'broccoli', 'fiddlehead', 'melon', 'endive', 'okra', 'sweet potato',\n",
    "#             'brussels sprouts', 'leek', 'carrot', 'green beans', 'beet', 'bok choy',\n",
    "#             'spinach', 'pumpkin', 'cranberr', 'parsnip', 'grape', 'grapefruit', 'turnip', 'honeydew melon',\n",
    "#             'rhubarb', 'blackberr', 'cantaloupe', 'cherr', 'kiwi', 'plum', 'peppers', 'zucchini', 'shallot',\n",
    "#             ]\n",
    "# stop_words = ['pepper', 'black', 'ground', 'fresh', 'into', 'cut', 'taste', 'more', 'peeled', 'such', \n",
    "#               'chopped', 'white', 'oil', 'green', 'brown', 'purpose', 'sugar', 'sliced',\n",
    "#               'parmesan', 'red', 'cheddar', 'finely', 'baking', 'sauce', 'optional',\n",
    "#               'thinly', 'salt', 'needed', 'boneless', 'cooking', 'drained', 'seeded',\n",
    "#               'extract', 'cooked', 'room', 'powder', 'juice', 'mozzarella', 'cored',\n",
    "#               'freshly', 'chile', 'at', 'diced', 'grated', 'unsalted', 'rinse', 'inch',\n",
    "#               'plus', 'extract', 'degrees', 'leaves', 'halve', 'whip', 'italian',\n",
    "#               'dried', 'less', 'shred', 'divide', 'sweet', 'whole', 'condense', 'thaw',\n",
    "#               'pitted', 'jack', 'chop', 'lightly', 'frozen', 'minced', 'garnish', 'melted',\n",
    "#               'coarsely', 'mix', 'small', '1', 'yellow', 'flakes', 'frying', 'pack', 'soup',\n",
    "#               'hot', 'light', 'thin', 'crush', 'spray', 'topping', 'squeeze', 'dill', 'sharpe',\n",
    "#               'thyme', 'steak', 'trim', 'large', 'crack', 'food', 'bouillon', 'size', 'sour', 'breast',\n",
    "#               'clove', 'beat']\n",
    "# maybe = ['pepper', 'butter', 'olive', 'cream', 'wine', 'cinnamon', 'cocoa', 'seeds', 'ginger', 'garlic',\n",
    "#          'soy', 'vanilla', 'walnut', 'cider', 'broth', 'salad', 'lean', 'olive', 'pastry', 'sesame', 'vinegar',\n",
    "#          'mustard', 'cream']"
   ]
  },
  {
   "cell_type": "code",
   "execution_count": 28,
   "metadata": {},
   "outputs": [],
   "source": [
    "# Function to extract keywords from ingredients_list\n",
    "def extract_keywords(ingredient_list, keywords):\n",
    "    # Check if ingredient_list is a string; if not, treat it as empty\n",
    "    if not isinstance(ingredient_list, str):\n",
    "        return ''\n",
    "    \n",
    "    # Normalize text and check for keywords\n",
    "    ingredient_list = ingredient_list.lower()\n",
    "    main_ingredients = [keyword for keyword in keywords if keyword in ingredient_list]\n",
    "    \n",
    "    return sorted(set(main_ingredients))\n"
   ]
  },
  {
   "cell_type": "code",
   "execution_count": 29,
   "metadata": {},
   "outputs": [],
   "source": [
    "# Apply function to DataFrame\n",
    "recipes['main_ingredients'] = recipes['ingredients_list'].apply(lambda x: extract_keywords(x, keywords))\n"
   ]
  },
  {
   "cell_type": "code",
   "execution_count": 30,
   "metadata": {},
   "outputs": [],
   "source": [
    "# Replace 'err' with 'erries' in one line\n",
    "recipes['main_ingredients'] = recipes['main_ingredients'].apply(lambda ingredients: [ingredient.replace('err', 'erries') for ingredient in ingredients])"
   ]
  },
  {
   "cell_type": "code",
   "execution_count": 31,
   "metadata": {},
   "outputs": [
    {
     "data": {
      "text/plain": [
       "['bread', 'egg', 'flour', 'lime', 'milk', 'onion']"
      ]
     },
     "execution_count": 31,
     "metadata": {},
     "output_type": "execute_result"
    }
   ],
   "source": [
    "recipes['main_ingredients'].iloc[0]"
   ]
  },
  {
   "cell_type": "markdown",
   "metadata": {},
   "source": [
    "### Main Ingredients Frequency"
   ]
  },
  {
   "cell_type": "code",
   "execution_count": 243,
   "metadata": {},
   "outputs": [],
   "source": [
    "# Flatten all words from the 'main_ingredient' column\n",
    "all_ingredients = [word for ingredients_list in recipes['main_ingredients'] for word in ingredients_list]"
   ]
  },
  {
   "cell_type": "code",
   "execution_count": 244,
   "metadata": {},
   "outputs": [],
   "source": [
    "# Count the occurrences of each word\n",
    "word_counts = Counter(all_ingredients)"
   ]
  },
  {
   "cell_type": "code",
   "execution_count": 245,
   "metadata": {},
   "outputs": [],
   "source": [
    "# Convert the Counter object to a DataFrame\n",
    "main_ingredient_freq = pd.DataFrame(word_counts.items(), columns=['Ingredient', 'Count'])"
   ]
  },
  {
   "cell_type": "code",
   "execution_count": 250,
   "metadata": {},
   "outputs": [],
   "source": [
    "main_ingredient_freq = main_ingredient_freq.sort_values(by='Count', ascending=False).reset_index(drop=True)"
   ]
  },
  {
   "cell_type": "code",
   "execution_count": 251,
   "metadata": {},
   "outputs": [
    {
     "data": {
      "text/html": [
       "<div>\n",
       "<style scoped>\n",
       "    .dataframe tbody tr th:only-of-type {\n",
       "        vertical-align: middle;\n",
       "    }\n",
       "\n",
       "    .dataframe tbody tr th {\n",
       "        vertical-align: top;\n",
       "    }\n",
       "\n",
       "    .dataframe thead th {\n",
       "        text-align: right;\n",
       "    }\n",
       "</style>\n",
       "<table border=\"1\" class=\"dataframe\">\n",
       "  <thead>\n",
       "    <tr style=\"text-align: right;\">\n",
       "      <th></th>\n",
       "      <th>Ingredient</th>\n",
       "      <th>Count</th>\n",
       "    </tr>\n",
       "  </thead>\n",
       "  <tbody>\n",
       "    <tr>\n",
       "      <th>0</th>\n",
       "      <td>onion</td>\n",
       "      <td>5160</td>\n",
       "    </tr>\n",
       "    <tr>\n",
       "      <th>1</th>\n",
       "      <td>egg</td>\n",
       "      <td>4789</td>\n",
       "    </tr>\n",
       "    <tr>\n",
       "      <th>2</th>\n",
       "      <td>flour</td>\n",
       "      <td>4327</td>\n",
       "    </tr>\n",
       "    <tr>\n",
       "      <th>3</th>\n",
       "      <td>cheese</td>\n",
       "      <td>3930</td>\n",
       "    </tr>\n",
       "    <tr>\n",
       "      <th>4</th>\n",
       "      <td>milk</td>\n",
       "      <td>2961</td>\n",
       "    </tr>\n",
       "  </tbody>\n",
       "</table>\n",
       "</div>"
      ],
      "text/plain": [
       "  Ingredient  Count\n",
       "0      onion   5160\n",
       "1        egg   4789\n",
       "2      flour   4327\n",
       "3     cheese   3930\n",
       "4       milk   2961"
      ]
     },
     "execution_count": 251,
     "metadata": {},
     "output_type": "execute_result"
    }
   ],
   "source": [
    "main_ingredient_freq.head()"
   ]
  },
  {
   "cell_type": "code",
   "execution_count": 252,
   "metadata": {},
   "outputs": [],
   "source": [
    "# Save the result to a CSV file\n",
    "main_ingredient_freq.to_csv(\"ingredient_frequency.csv\", index=False)"
   ]
  },
  {
   "cell_type": "markdown",
   "metadata": {},
   "source": [
    "### Convert Time Columns"
   ]
  },
  {
   "cell_type": "code",
   "execution_count": 32,
   "metadata": {},
   "outputs": [],
   "source": [
    "time_cols = ['prep_time', 'cook_time', 'total_time']"
   ]
  },
  {
   "cell_type": "code",
   "execution_count": 33,
   "metadata": {},
   "outputs": [],
   "source": [
    "# Function to convert time string to total minutes\n",
    "def convert_to_minutes(time_str):\n",
    "    # Handle NaN or non-string values\n",
    "    if not isinstance(time_str, str):\n",
    "        return np.nan \n",
    "    \n",
    "    # Initialize hours and minutes\n",
    "    hours = 0\n",
    "    minutes = 0\n",
    "    \n",
    "    # Extract hours and minutes using regex\n",
    "    if 'hr' in time_str:\n",
    "        hours_match = re.search(r'(\\d+)\\s*hr', time_str)\n",
    "        if hours_match:\n",
    "            hours = int(hours_match.group(1))\n",
    "    \n",
    "    if 'min' in time_str:\n",
    "        minutes_match = re.search(r'(\\d+)\\s*min', time_str)\n",
    "        if minutes_match:\n",
    "            minutes = int(minutes_match.group(1))\n",
    "    \n",
    "    # Convert total time to minutes\n",
    "    total_minutes = hours * 60 + minutes\n",
    "    return int(total_minutes)"
   ]
  },
  {
   "cell_type": "code",
   "execution_count": 34,
   "metadata": {},
   "outputs": [],
   "source": [
    "# Apply the function to each time column\n",
    "for col in time_cols:\n",
    "    recipes[col] = recipes[col].apply(convert_to_minutes)"
   ]
  },
  {
   "cell_type": "code",
   "execution_count": 35,
   "metadata": {},
   "outputs": [],
   "source": [
    "# Calculate the additional time column\n",
    "recipes['additional_time'] = recipes['total_time'] - recipes['cook_time'] - recipes['prep_time']\n",
    "\n",
    "# Reorder the columns to place 'additional_time' before 'total_time'\n",
    "columns = recipes.columns.tolist()\n",
    "columns.insert(columns.index('total_time'), columns.pop(columns.index('additional_time')))\n",
    "recipes = recipes[columns]"
   ]
  },
  {
   "cell_type": "markdown",
   "metadata": {},
   "source": [
    "### Estimate Empty Time Columns"
   ]
  },
  {
   "cell_type": "code",
   "execution_count": 124,
   "metadata": {},
   "outputs": [],
   "source": [
    "# Find all rows with NaN in 'total_time' column\n",
    "nan_time_test = recipes[recipes['total_time'].isna()].reset_index(drop = True)"
   ]
  },
  {
   "cell_type": "code",
   "execution_count": 125,
   "metadata": {},
   "outputs": [
    {
     "name": "stdout",
     "output_type": "stream",
     "text": [
      " Put chicken pieces in a large pot over medium heat, and add enough water to cover 3 inches over the chicken. Add the salt, celery, pepper, carrots, celery and potatoes. Bring to a boil and let simmer for 40 minutes.\n",
      " In a mixing bowl, prepare biscuit mix according to package directions. After simmering soup for 40 minutes, drop rounded tablespoonfuls of the biscuit mixture into the pot and let them cook a bit between additions of dumplings, so that they do not stick together.\n",
      " With a wire whisk, mix together about 1 1/2 cups of water with the flour, then add flour mixture to the soup pot until the broth has the consistency of gravy. Dig in and enjoy the meal!\n",
      "\n",
      " Whisk together flour, baking soda, salt, cinnamon, and baking powder.\n",
      " In a large bowl, beat the eggs. Gradually beat in sugar, then oil. Add flour mixture alternately with zucchini into the egg mixture. Stir in the raisins, walnuts, and vanilla. Pour batter into two 9 x 5 inch greased and lightly floured loaf pans.\n",
      " Bake on lowest rack of the oven at 350 degrees F (175 degrees C) for 55 minutes. Let cool for 10 minutes in the pan, then turn out onto racks to cool completely. To freeze, wrap loaves in plastic wrap, and then wrap in heavy freezer paper. Will keep indefinitely.\n",
      "\n",
      " Saute mushrooms in 1 tablespoon of oil. Season with salt and set aside.\n",
      " Whisk half-and-half, eggs, salt and pepper until smooth. Spray a 9-by-13-inch Pyrex or ceramic baking dish with vegetable cooking spray.\n",
      " Line bottom with 6 slices of bread. Scatter half of the ham, and half of the mushrooms over the bread, then sprinkle with half of the scallions and cheese. Pour 1 cup of egg mixture over the top. Repeat layers with remaining bread, ham, mushrooms, cheese and scallions. Slowly pour remaining egg mixture evenly over top. Cover with plastic wrap, then weight down casserole with 3 16-ounce cans for at least 15 minutes to submerge ingredients. (Can be refrigerated overnight, but return to room temperature before baking.)\n",
      " Adjust oven rack to middle position. Bake in preheated 325-degree oven until custard is just set, about 50 minutes. Turn on broiler and broil until strata is spotty brown and puffy (watch carefully), about 5 minutes longer. Let stand for 8 to 10 minutes, then serve immediately.\n",
      "\n",
      " Pre-heat oven to 350 degrees F (175 degrees C). Lightly grease a 9 x 9 x 1-3/4 inch pan.\n",
      " Sift together flour, baking powder and salt and set aside. In large bowl, beat together butter, sugar, egg and vanilla until smooth.\n",
      " Stir in the flour mixture and the nuts until well blended. Spread evenly in prepared pan. Bake 25-30 minutes or until surface springs back when gently pressed. Cool slightly. While still warm, cut into bars with a sharp knife.\n",
      "\n",
      " Preheat oven to 325 degrees F (165 degrees C).\n",
      " Combine brownie mix, oil, egg and water in a large bowl. Stir 50 strokes with a spoon.\n",
      " Place batter in a cupcake pan (cupcake wrappers recommended). Once cups are 3/4 of the way full, place an unwrapped miniature peanut butter cup in the middle, then bake for 30-35 minutes keeping an eye on them while they're baking. Let them cool and then they're ready to eat!!\n",
      "\n"
     ]
    }
   ],
   "source": [
    "# Display directions for reference\n",
    "for i in range(5):\n",
    "    print(nan_time_test.iloc[i, 9])"
   ]
  },
  {
   "cell_type": "code",
   "execution_count": null,
   "metadata": {},
   "outputs": [],
   "source": [
    "cleaned_recipes = recipes.dropna(subset=['total_time']).reset_index(drop=True)"
   ]
  },
  {
   "cell_type": "code",
   "execution_count": 171,
   "metadata": {},
   "outputs": [],
   "source": [
    "# Split training and validation dataset\n",
    "train_texts, val_texts, train_labels, val_labels = train_test_split(\n",
    "    cleaned_recipes['direction_list'], cleaned_recipes['total_time'], test_size=0.2, random_state=42\n",
    ")"
   ]
  },
  {
   "cell_type": "code",
   "execution_count": 172,
   "metadata": {},
   "outputs": [
    {
     "name": "stderr",
     "output_type": "stream",
     "text": [
      "Some weights of the PyTorch model were not used when initializing the TF 2.0 model TFBertModel: ['cls.predictions.transform.dense.bias', 'cls.predictions.transform.dense.weight', 'cls.predictions.bias', 'cls.predictions.transform.LayerNorm.weight', 'cls.predictions.transform.LayerNorm.bias', 'cls.seq_relationship.bias', 'cls.seq_relationship.weight']\n",
      "- This IS expected if you are initializing TFBertModel from a PyTorch model trained on another task or with another architecture (e.g. initializing a TFBertForSequenceClassification model from a BertForPreTraining model).\n",
      "- This IS NOT expected if you are initializing TFBertModel from a PyTorch model that you expect to be exactly identical (e.g. initializing a TFBertForSequenceClassification model from a BertForSequenceClassification model).\n",
      "All the weights of TFBertModel were initialized from the PyTorch model.\n",
      "If your task is similar to the task the model of the checkpoint was trained on, you can already use TFBertModel for predictions without further training.\n"
     ]
    }
   ],
   "source": [
    "# Load the BERT tokenizer and BERT model\n",
    "tokenizer = BertTokenizer.from_pretrained('bert-base-uncased')\n",
    "bert_model = TFBertModel.from_pretrained('bert-base-uncased', trainable=True)"
   ]
  },
  {
   "cell_type": "code",
   "execution_count": 173,
   "metadata": {},
   "outputs": [],
   "source": [
    "# Tokenize the text data with numpy arrays\n",
    "train_encodings = tokenizer(train_texts.tolist(), padding=True, truncation=True, max_length=256, return_tensors=\"np\")\n",
    "val_encodings = tokenizer(val_texts.tolist(), padding=True, truncation=True, max_length=256, return_tensors=\"np\")"
   ]
  },
  {
   "cell_type": "code",
   "execution_count": null,
   "metadata": {},
   "outputs": [],
   "source": [
    "# Extract input_ids and attention_mask from the tokenized data\n",
    "train_input_ids = train_encodings['input_ids']\n",
    "train_attention_mask = train_encodings['attention_mask']\n",
    "val_input_ids = val_encodings['input_ids']\n",
    "val_attention_mask = val_encodings['attention_mask']\n",
    "\n",
    "# Convert labels to NumPy arrays\n",
    "train_labels = np.array(train_labels)  \n",
    "val_labels = np.array(val_labels) \n"
   ]
  },
  {
   "cell_type": "code",
   "execution_count": null,
   "metadata": {},
   "outputs": [],
   "source": [
    "# train_input_ids = np.array(train_input_ids)\n",
    "# train_attention_mask = np.array(train_attention_mask)\n",
    "# train_labels = np.array(train_labels)"
   ]
  },
  {
   "cell_type": "code",
   "execution_count": null,
   "metadata": {},
   "outputs": [],
   "source": [
    "# Create the TensorFlow Dataset for training and validation\n",
    "train_dataset = tf.data.Dataset.from_tensor_slices(({\"input_ids\": train_input_ids, \"attention_mask\": train_attention_mask},\n",
    "                                                    train_labels))\n",
    "val_dataset = tf.data.Dataset.from_tensor_slices(({\"input_ids\": val_input_ids, \"attention_mask\": val_attention_mask},\n",
    "                                                  val_labels))"
   ]
  },
  {
   "cell_type": "code",
   "execution_count": 181,
   "metadata": {},
   "outputs": [],
   "source": [
    "# Shuffle and batch the data\n",
    "train_dataset = train_dataset.batch(32)\n",
    "val_dataset = val_dataset.batch(32)"
   ]
  },
  {
   "cell_type": "code",
   "execution_count": null,
   "metadata": {},
   "outputs": [],
   "source": [
    "# Define input and attention_mask placeholders\n",
    "input_ids = tf.keras.layers.Input(shape=(256,), dtype=tf.int64, name=\"input_ids\")\n",
    "attention_mask = tf.keras.layers.Input(shape=(256,), dtype=tf.int64, name=\"attention_mask\")"
   ]
  },
  {
   "cell_type": "code",
   "execution_count": null,
   "metadata": {},
   "outputs": [],
   "source": [
    "# Define a custom model to wrap BERT\n",
    "class BERTWrapper(tf.keras.Model):\n",
    "    def __init__(self, bert_model, **kwargs):\n",
    "        super(BERTWrapper, self).__init__(**kwargs)\n",
    "        self.bert_model = bert_model\n",
    "        self.pooling_layer = GlobalAveragePooling1D()  \n",
    "        self.dropout = Dropout(0.5)\n",
    "        self.dense1 = Dense(64, activation='relu')\n",
    "        self.output_layer = Dense(1)\n",
    "\n",
    "    def call(self, inputs, **kwargs):\n",
    "        # Extracting the last hidden state from the BERT output\n",
    "        output = self.bert_model(input_ids=inputs['input_ids'], attention_mask=inputs['attention_mask'])\n",
    "        last_hidden_state = output.last_hidden_state \n",
    "        pooled_output = self.pooling_layer(last_hidden_state)\n",
    "        x = self.dropout(pooled_output)\n",
    "        x = self.dense1(x)\n",
    "        output = self.output_layer(x) \n",
    "\n",
    "        return output"
   ]
  },
  {
   "cell_type": "code",
   "execution_count": 184,
   "metadata": {},
   "outputs": [],
   "source": [
    "# Create an instance of wrapped BERT model\n",
    "model = BERTWrapper(bert_model)"
   ]
  },
  {
   "cell_type": "code",
   "execution_count": 185,
   "metadata": {},
   "outputs": [],
   "source": [
    "# Create a Keras Model using the functional API\n",
    "outputs = model({'input_ids': input_ids, 'attention_mask': attention_mask})\n",
    "final_model = tf.keras.Model(inputs=[input_ids, attention_mask], outputs=outputs)"
   ]
  },
  {
   "cell_type": "code",
   "execution_count": null,
   "metadata": {},
   "outputs": [],
   "source": [
    "# Compile the model\n",
    "final_model.compile(optimizer='adam', loss='mse', metrics=['mae'])"
   ]
  },
  {
   "cell_type": "code",
   "execution_count": null,
   "metadata": {},
   "outputs": [
    {
     "name": "stdout",
     "output_type": "stream",
     "text": [
      "Epoch 1/5\n"
     ]
    },
    {
     "name": "stderr",
     "output_type": "stream",
     "text": [
      "/opt/anaconda3/envs/PIC16B-24F/lib/python3.11/site-packages/keras/src/models/functional.py:225: UserWarning: The structure of `inputs` doesn't match the expected structure: ['input_ids', 'attention_mask']. Received: the structure of inputs={'input_ids': '*', 'attention_mask': '*'}\n",
      "  warnings.warn(\n"
     ]
    },
    {
     "name": "stdout",
     "output_type": "stream",
     "text": [
      "\u001b[1m353/353\u001b[0m \u001b[32m━━━━━━━━━━━━━━━━━━━━\u001b[0m\u001b[37m\u001b[0m \u001b[1m2392s\u001b[0m 7s/step - loss: 22267.6953 - mae: 82.9380 - val_loss: 20606.7812 - val_mae: 82.4884\n",
      "Epoch 2/5\n",
      "\u001b[1m353/353\u001b[0m \u001b[32m━━━━━━━━━━━━━━━━━━━━\u001b[0m\u001b[37m\u001b[0m \u001b[1m2548s\u001b[0m 7s/step - loss: 19719.8203 - mae: 83.8771 - val_loss: 20582.8984 - val_mae: 82.6142\n",
      "Epoch 3/5\n",
      "\u001b[1m353/353\u001b[0m \u001b[32m━━━━━━━━━━━━━━━━━━━━\u001b[0m\u001b[37m\u001b[0m \u001b[1m2412s\u001b[0m 7s/step - loss: 19657.0840 - mae: 83.6883 - val_loss: 20595.3965 - val_mae: 82.1871\n",
      "Epoch 4/5\n",
      "\u001b[1m353/353\u001b[0m \u001b[32m━━━━━━━━━━━━━━━━━━━━\u001b[0m\u001b[37m\u001b[0m \u001b[1m2401s\u001b[0m 7s/step - loss: 19665.3770 - mae: 83.5996 - val_loss: 20588.9902 - val_mae: 82.3901\n",
      "Epoch 5/5\n",
      "\u001b[1m353/353\u001b[0m \u001b[32m━━━━━━━━━━━━━━━━━━━━\u001b[0m\u001b[37m\u001b[0m \u001b[1m2960s\u001b[0m 8s/step - loss: 19650.1699 - mae: 83.6804 - val_loss: 20575.9258 - val_mae: 82.6043\n"
     ]
    }
   ],
   "source": [
    "# Train the model\n",
    "history = final_model.fit(\n",
    "    train_dataset,\n",
    "    validation_data=val_dataset,\n",
    "    epochs=5,\n",
    "    batch_size=32\n",
    ")"
   ]
  },
  {
   "cell_type": "code",
   "execution_count": 201,
   "metadata": {},
   "outputs": [],
   "source": [
    "# Save the model to a file\n",
    "final_model.save('time_prediction_model.keras')"
   ]
  },
  {
   "cell_type": "code",
   "execution_count": 253,
   "metadata": {},
   "outputs": [
    {
     "data": {
      "text/html": [
       "<pre style=\"white-space:pre;overflow-x:auto;line-height:normal;font-family:Menlo,'DejaVu Sans Mono',consolas,'Courier New',monospace\"><span style=\"font-weight: bold\">Model: \"functional_8\"</span>\n",
       "</pre>\n"
      ],
      "text/plain": [
       "\u001b[1mModel: \"functional_8\"\u001b[0m\n"
      ]
     },
     "metadata": {},
     "output_type": "display_data"
    },
    {
     "data": {
      "text/html": [
       "<pre style=\"white-space:pre;overflow-x:auto;line-height:normal;font-family:Menlo,'DejaVu Sans Mono',consolas,'Courier New',monospace\">┏━━━━━━━━━━━━━━━━━━━━━┳━━━━━━━━━━━━━━━━━━━┳━━━━━━━━━━━━┳━━━━━━━━━━━━━━━━━━━┓\n",
       "┃<span style=\"font-weight: bold\"> Layer (type)        </span>┃<span style=\"font-weight: bold\"> Output Shape      </span>┃<span style=\"font-weight: bold\">    Param # </span>┃<span style=\"font-weight: bold\"> Connected to      </span>┃\n",
       "┡━━━━━━━━━━━━━━━━━━━━━╇━━━━━━━━━━━━━━━━━━━╇━━━━━━━━━━━━╇━━━━━━━━━━━━━━━━━━━┩\n",
       "│ attention_mask      │ (<span style=\"color: #00d7ff; text-decoration-color: #00d7ff\">None</span>, <span style=\"color: #00af00; text-decoration-color: #00af00\">256</span>)       │          <span style=\"color: #00af00; text-decoration-color: #00af00\">0</span> │ -                 │\n",
       "│ (<span style=\"color: #0087ff; text-decoration-color: #0087ff\">InputLayer</span>)        │                   │            │                   │\n",
       "├─────────────────────┼───────────────────┼────────────┼───────────────────┤\n",
       "│ input_ids           │ (<span style=\"color: #00d7ff; text-decoration-color: #00d7ff\">None</span>, <span style=\"color: #00af00; text-decoration-color: #00af00\">256</span>)       │          <span style=\"color: #00af00; text-decoration-color: #00af00\">0</span> │ -                 │\n",
       "│ (<span style=\"color: #0087ff; text-decoration-color: #0087ff\">InputLayer</span>)        │                   │            │                   │\n",
       "├─────────────────────┼───────────────────┼────────────┼───────────────────┤\n",
       "│ bert_wrapper_18     │ (<span style=\"color: #00d7ff; text-decoration-color: #00d7ff\">None</span>, <span style=\"color: #00af00; text-decoration-color: #00af00\">1</span>)         │     <span style=\"color: #00af00; text-decoration-color: #00af00\">49,281</span> │ attention_mask[<span style=\"color: #00af00; text-decoration-color: #00af00\">0</span>… │\n",
       "│ (<span style=\"color: #0087ff; text-decoration-color: #0087ff\">BERTWrapper</span>)       │                   │            │ input_ids[<span style=\"color: #00af00; text-decoration-color: #00af00\">0</span>][<span style=\"color: #00af00; text-decoration-color: #00af00\">0</span>]   │\n",
       "└─────────────────────┴───────────────────┴────────────┴───────────────────┘\n",
       "</pre>\n"
      ],
      "text/plain": [
       "┏━━━━━━━━━━━━━━━━━━━━━┳━━━━━━━━━━━━━━━━━━━┳━━━━━━━━━━━━┳━━━━━━━━━━━━━━━━━━━┓\n",
       "┃\u001b[1m \u001b[0m\u001b[1mLayer (type)       \u001b[0m\u001b[1m \u001b[0m┃\u001b[1m \u001b[0m\u001b[1mOutput Shape     \u001b[0m\u001b[1m \u001b[0m┃\u001b[1m \u001b[0m\u001b[1m   Param #\u001b[0m\u001b[1m \u001b[0m┃\u001b[1m \u001b[0m\u001b[1mConnected to     \u001b[0m\u001b[1m \u001b[0m┃\n",
       "┡━━━━━━━━━━━━━━━━━━━━━╇━━━━━━━━━━━━━━━━━━━╇━━━━━━━━━━━━╇━━━━━━━━━━━━━━━━━━━┩\n",
       "│ attention_mask      │ (\u001b[38;5;45mNone\u001b[0m, \u001b[38;5;34m256\u001b[0m)       │          \u001b[38;5;34m0\u001b[0m │ -                 │\n",
       "│ (\u001b[38;5;33mInputLayer\u001b[0m)        │                   │            │                   │\n",
       "├─────────────────────┼───────────────────┼────────────┼───────────────────┤\n",
       "│ input_ids           │ (\u001b[38;5;45mNone\u001b[0m, \u001b[38;5;34m256\u001b[0m)       │          \u001b[38;5;34m0\u001b[0m │ -                 │\n",
       "│ (\u001b[38;5;33mInputLayer\u001b[0m)        │                   │            │                   │\n",
       "├─────────────────────┼───────────────────┼────────────┼───────────────────┤\n",
       "│ bert_wrapper_18     │ (\u001b[38;5;45mNone\u001b[0m, \u001b[38;5;34m1\u001b[0m)         │     \u001b[38;5;34m49,281\u001b[0m │ attention_mask[\u001b[38;5;34m0\u001b[0m… │\n",
       "│ (\u001b[38;5;33mBERTWrapper\u001b[0m)       │                   │            │ input_ids[\u001b[38;5;34m0\u001b[0m][\u001b[38;5;34m0\u001b[0m]   │\n",
       "└─────────────────────┴───────────────────┴────────────┴───────────────────┘\n"
      ]
     },
     "metadata": {},
     "output_type": "display_data"
    },
    {
     "data": {
      "text/html": [
       "<pre style=\"white-space:pre;overflow-x:auto;line-height:normal;font-family:Menlo,'DejaVu Sans Mono',consolas,'Courier New',monospace\"><span style=\"font-weight: bold\"> Total params: </span><span style=\"color: #00af00; text-decoration-color: #00af00\">147,845</span> (577.52 KB)\n",
       "</pre>\n"
      ],
      "text/plain": [
       "\u001b[1m Total params: \u001b[0m\u001b[38;5;34m147,845\u001b[0m (577.52 KB)\n"
      ]
     },
     "metadata": {},
     "output_type": "display_data"
    },
    {
     "data": {
      "text/html": [
       "<pre style=\"white-space:pre;overflow-x:auto;line-height:normal;font-family:Menlo,'DejaVu Sans Mono',consolas,'Courier New',monospace\"><span style=\"font-weight: bold\"> Trainable params: </span><span style=\"color: #00af00; text-decoration-color: #00af00\">49,281</span> (192.50 KB)\n",
       "</pre>\n"
      ],
      "text/plain": [
       "\u001b[1m Trainable params: \u001b[0m\u001b[38;5;34m49,281\u001b[0m (192.50 KB)\n"
      ]
     },
     "metadata": {},
     "output_type": "display_data"
    },
    {
     "data": {
      "text/html": [
       "<pre style=\"white-space:pre;overflow-x:auto;line-height:normal;font-family:Menlo,'DejaVu Sans Mono',consolas,'Courier New',monospace\"><span style=\"font-weight: bold\"> Non-trainable params: </span><span style=\"color: #00af00; text-decoration-color: #00af00\">0</span> (0.00 B)\n",
       "</pre>\n"
      ],
      "text/plain": [
       "\u001b[1m Non-trainable params: \u001b[0m\u001b[38;5;34m0\u001b[0m (0.00 B)\n"
      ]
     },
     "metadata": {},
     "output_type": "display_data"
    },
    {
     "data": {
      "text/html": [
       "<pre style=\"white-space:pre;overflow-x:auto;line-height:normal;font-family:Menlo,'DejaVu Sans Mono',consolas,'Courier New',monospace\"><span style=\"font-weight: bold\"> Optimizer params: </span><span style=\"color: #00af00; text-decoration-color: #00af00\">98,564</span> (385.02 KB)\n",
       "</pre>\n"
      ],
      "text/plain": [
       "\u001b[1m Optimizer params: \u001b[0m\u001b[38;5;34m98,564\u001b[0m (385.02 KB)\n"
      ]
     },
     "metadata": {},
     "output_type": "display_data"
    }
   ],
   "source": [
    "final_model.summary()"
   ]
  },
  {
   "cell_type": "code",
   "execution_count": null,
   "metadata": {},
   "outputs": [],
   "source": [
    "# Preprocess the testing data\n",
    "test_encodings = tokenizer(nan_time_test['direction_list'].tolist(), padding=True, truncation=True, max_length=256, return_tensors=\"np\")\n",
    "test_inputs = {\n",
    "    'input_ids': test_encodings['input_ids'],\n",
    "    'attention_mask': test_encodings['attention_mask']\n",
    "}\n"
   ]
  },
  {
   "cell_type": "code",
   "execution_count": 208,
   "metadata": {},
   "outputs": [
    {
     "name": "stderr",
     "output_type": "stream",
     "text": [
      "/opt/anaconda3/envs/PIC16B-24F/lib/python3.11/site-packages/keras/src/models/functional.py:225: UserWarning: The structure of `inputs` doesn't match the expected structure: ['input_ids', 'attention_mask']. Received: the structure of inputs={'input_ids': '*', 'attention_mask': '*'}\n",
      "  warnings.warn(\n"
     ]
    },
    {
     "name": "stdout",
     "output_type": "stream",
     "text": [
      "\u001b[1m12/12\u001b[0m \u001b[32m━━━━━━━━━━━━━━━━━━━━\u001b[0m\u001b[37m\u001b[0m \u001b[1m57s\u001b[0m 5s/step\n"
     ]
    }
   ],
   "source": [
    "# Making predictions on the test set\n",
    "predictions = final_model.predict(test_inputs)"
   ]
  },
  {
   "cell_type": "code",
   "execution_count": null,
   "metadata": {},
   "outputs": [],
   "source": [
    "# Input prediction into the dataset\n",
    "nan_time_test['total_time'] = predictions.flatten().astype(int)"
   ]
  },
  {
   "cell_type": "code",
   "execution_count": null,
   "metadata": {},
   "outputs": [
    {
     "data": {
      "text/plain": [
       "array([ 52,  78,  79,  80,  81,  82,  83,  84,  85,  86,  87,  88,  89,\n",
       "        90,  91,  92,  93,  94,  95,  96,  97,  98,  99, 100, 101, 102,\n",
       "       103, 104, 105, 107, 108, 109, 110, 111, 112, 113, 114, 115, 116,\n",
       "       117, 118, 119, 120, 121, 122, 123, 124, 125, 126, 129, 130, 133])"
      ]
     },
     "execution_count": 228,
     "metadata": {},
     "output_type": "execute_result"
    }
   ],
   "source": [
    "# Check the values of prediction\n",
    "sorted_unique_predictions = np.sort(nan_time_test['total_time'].unique())\n",
    "sorted_unique_predictions"
   ]
  },
  {
   "cell_type": "code",
   "execution_count": 230,
   "metadata": {},
   "outputs": [],
   "source": [
    "# Merge the datasets on the 'id' column (or any other relevant column)\n",
    "recipes_updated = recipes.set_index('recipe_name').combine_first(nan_time_test.set_index('recipe_name'))"
   ]
  },
  {
   "cell_type": "code",
   "execution_count": null,
   "metadata": {},
   "outputs": [
    {
     "data": {
      "text/plain": [
       "0"
      ]
     },
     "execution_count": 236,
     "metadata": {},
     "output_type": "execute_result"
    }
   ],
   "source": [
    "# Check successful input\n",
    "recipes_updated['total_time'].isna().sum()"
   ]
  },
  {
   "cell_type": "code",
   "execution_count": 241,
   "metadata": {},
   "outputs": [
    {
     "name": "stdout",
     "output_type": "stream",
     "text": [
      "Number of recipes where total_time is less than 1 hour: 7316\n"
     ]
    }
   ],
   "source": [
    "# Check number of short cooking recipes\n",
    "count = recipes_updated[recipes_updated['total_time'] < 60].shape[0]\n",
    "print(f\"Number of recipes where total_time is less than 1 hour: {count}\")"
   ]
  },
  {
   "cell_type": "code",
   "execution_count": 237,
   "metadata": {},
   "outputs": [],
   "source": [
    "recipes_updated.to_csv('recipes_updated.csv', index=False)"
   ]
  }
 ],
 "metadata": {
  "kernelspec": {
   "display_name": "PIC16B-24F",
   "language": "python",
   "name": "python3"
  },
  "language_info": {
   "codemirror_mode": {
    "name": "ipython",
    "version": 3
   },
   "file_extension": ".py",
   "mimetype": "text/x-python",
   "name": "python",
   "nbconvert_exporter": "python",
   "pygments_lexer": "ipython3",
   "version": "3.11.6"
  }
 },
 "nbformat": 4,
 "nbformat_minor": 2
}
