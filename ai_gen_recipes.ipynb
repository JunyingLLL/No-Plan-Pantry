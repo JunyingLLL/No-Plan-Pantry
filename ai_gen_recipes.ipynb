{
 "cells": [
  {
   "attachments": {},
   "cell_type": "markdown",
   "metadata": {},
   "source": [
    "# Generating recipes using pretrained GPT-2 Model\n",
    "* see documentation [here](https://huggingface.co/docs/transformers/en/model_doc/gpt2)"
   ]
  },
  {
   "attachments": {},
   "cell_type": "markdown",
   "metadata": {},
   "source": [
    "### With time and ingredients"
   ]
  },
  {
   "cell_type": "code",
   "execution_count": 1,
   "metadata": {},
   "outputs": [
    {
     "name": "stderr",
     "output_type": "stream",
     "text": [
      "Setting `pad_token_id` to `eos_token_id`:None for open-end generation.\n"
     ]
    },
    {
     "data": {
      "text/plain": [
       "['Given that you have 120 minutes to cook, here is a recipe using the following ingredients: chicken, garlic, olive oil, basil',\n",
       " ' First, you should\\n\\ncook the chicken in a large skillet over medium-high heat',\n",
       " ' Add the garlic and cook for about 5 minutes, or until the onion is translucent',\n",
       " ' Remove from the heat and allow to cool slightly',\n",
       " ' Once the onions are translucent, add the basil and continue cooking for another 5-10 minutes or so until they are soft and tender, about 3-4 minutes per side',\n",
       " ' Stir in the tomato paste, salt, pepper, and cayenne pepper',\n",
       " ' Serve immediately or refrigerate',\n",
       " '\\n']"
      ]
     },
     "execution_count": 1,
     "metadata": {},
     "output_type": "execute_result"
    }
   ],
   "source": [
    "from transformers import AutoModelForCausalLM, AutoTokenizer, set_seed\n",
    "\n",
    "# Set a random seed for reproducibility\n",
    "set_seed(42)\n",
    "\n",
    "# Load pre-trained GPT-2 model and tokenizer\n",
    "model_name = \"gpt2\"\n",
    "tokenizer = AutoTokenizer.from_pretrained(model_name)\n",
    "\n",
    "# Set the pad token to the EOS token if it's not already defined\n",
    "if tokenizer.pad_token is None:\n",
    "    tokenizer.pad_token = tokenizer.eos_token\n",
    "\n",
    "model = AutoModelForCausalLM.from_pretrained(model_name, pad_token_id=tokenizer.eos_token_id)\n",
    "\n",
    "# Define ingredients and create a prompt\n",
    "ingredients = \"chicken, garlic, olive oil, basil\"\n",
    "max_min = 120\n",
    "prompt = f\"Given that you have {max_min} minutes to cook, here is a recipe using the following ingredients: {ingredients}. First, you should\"\n",
    "\n",
    "# Encode the prompt, ensuring to add attention mask and padding\n",
    "inputs = tokenizer(prompt, return_tensors=\"pt\", padding=\"max_length\", max_length=100, truncation=True)\n",
    "attention_mask = inputs['attention_mask']\n",
    "\n",
    "# Generate response using the encoded inputs and attention mask\n",
    "output = model.generate(\n",
    "    input_ids=inputs['input_ids'],\n",
    "    attention_mask=attention_mask,\n",
    "    max_length=200,\n",
    "    num_beams=5,\n",
    "    no_repeat_ngram_size=2,\n",
    "    early_stopping=True\n",
    ")\n",
    "\n",
    "# Decode and print the generated recipe\n",
    "generated_recipe1 = tokenizer.decode(output[0], skip_special_tokens=True)\n",
    "generated_recipe1.split(\".\")"
   ]
  },
  {
   "cell_type": "code",
   "execution_count": 2,
   "metadata": {},
   "outputs": [
    {
     "data": {
      "text/plain": [
       "['Given that you have 120 minutes to cook, here is a recipe using the following ingredients: chicken, garlic, olive oil, basil',\n",
       " ' First, you should\\n\\ncook the chicken in a large skillet over medium-high heat',\n",
       " ' Add the garlic and cook for about 5 minutes, or until the onion is translucent',\n",
       " ' Remove from the heat and allow to cool slightly',\n",
       " ' Once the onions are translucent, add the basil and continue cooking for another 5-10 minutes or so until they are soft and tender, about 3-4 minutes per side',\n",
       " ' Stir in the tomato paste, salt, pepper, and cayenne pepper',\n",
       " ' Serve immediately or refrigerate',\n",
       " '\\n']"
      ]
     },
     "execution_count": 2,
     "metadata": {},
     "output_type": "execute_result"
    }
   ],
   "source": [
    "generated_recipe1.split(\".\")"
   ]
  },
  {
   "cell_type": "code",
   "execution_count": 3,
   "metadata": {},
   "outputs": [
    {
     "name": "stderr",
     "output_type": "stream",
     "text": [
      "/Users/jadeliang/anaconda3/envs/pic16B/lib/python3.12/site-packages/transformers/generation/configuration_utils.py:590: UserWarning: `do_sample` is set to `False`. However, `temperature` is set to `0.9` -- this flag is only used in sample-based generation modes. You should set `do_sample=True` or unset `temperature`.\n",
      "  warnings.warn(\n",
      "Setting `pad_token_id` to `eos_token_id`:None for open-end generation.\n"
     ]
    },
    {
     "name": "stdout",
     "output_type": "stream",
     "text": [
      "Recipe:\n",
      "Ingredients: chicken, garlic, olive oil, basil\n",
      "Instructions:\n",
      "1. Preheat oven to 350 degrees F.\n",
      "2. In a large bowl, whisk together the chicken and garlic. Stir in the basil and cook until fragrant, about 5 minutes. Remove from heat and set aside. 3. Heat the oil in a skillet over medium-high heat. Add the onion and sauté for about 2 minutes, stirring occasionally, until soft and translucent. Transfer to a wire rack and let cool completely. 4. Once the onions are translucent, add the\n"
     ]
    }
   ],
   "source": [
    "# Define your ingredients and create a prompt\n",
    "ingredients = \"chicken, garlic, olive oil, basil\"\n",
    "prompt = f\"Recipe:\\nIngredients: {ingredients}\\nInstructions:\\n\"\n",
    "\n",
    "# Encode the prompt, ensuring to add attention mask and padding\n",
    "inputs = tokenizer(prompt, return_tensors=\"pt\", padding=\"max_length\", max_length=150, truncation=True)\n",
    "attention_mask = inputs['attention_mask']\n",
    "\n",
    "# Generate response using the encoded inputs and attention mask\n",
    "output = model.generate(\n",
    "    input_ids=inputs['input_ids'],\n",
    "    attention_mask=attention_mask,\n",
    "    max_length=250,\n",
    "    num_beams=5,\n",
    "    no_repeat_ngram_size=2,\n",
    "    early_stopping=True,\n",
    "    temperature=0.9,\n",
    "    eos_token_id=tokenizer.eos_token_id\n",
    ")\n",
    "\n",
    "# Decode and print the generated recipe\n",
    "generated_recipe2 = tokenizer.decode(output[0], skip_special_tokens=True)\n",
    "print(generated_recipe2)"
   ]
  },
  {
   "cell_type": "code",
   "execution_count": 4,
   "metadata": {},
   "outputs": [
    {
     "data": {
      "text/plain": [
       "['Recipe:\\nIngredients: chicken, garlic, olive oil, basil\\nInstructions:\\n1',\n",
       " ' Preheat oven to 350 degrees F',\n",
       " '\\n2',\n",
       " ' In a large bowl, whisk together the chicken and garlic',\n",
       " ' Stir in the basil and cook until fragrant, about 5 minutes',\n",
       " ' Remove from heat and set aside',\n",
       " ' 3',\n",
       " ' Heat the oil in a skillet over medium-high heat',\n",
       " ' Add the onion and sauté for about 2 minutes, stirring occasionally, until soft and translucent',\n",
       " ' Transfer to a wire rack and let cool completely',\n",
       " ' 4',\n",
       " ' Once the onions are translucent, add the']"
      ]
     },
     "execution_count": 4,
     "metadata": {},
     "output_type": "execute_result"
    }
   ],
   "source": [
    "generated_recipe2.split(\".\")"
   ]
  },
  {
   "attachments": {},
   "cell_type": "markdown",
   "metadata": {},
   "source": [
    "## Training GPT2 Model Using Scraped Recipes"
   ]
  },
  {
   "cell_type": "code",
   "execution_count": 5,
   "metadata": {},
   "outputs": [
    {
     "data": {
      "text/html": [
       "<div>\n",
       "<style scoped>\n",
       "    .dataframe tbody tr th:only-of-type {\n",
       "        vertical-align: middle;\n",
       "    }\n",
       "\n",
       "    .dataframe tbody tr th {\n",
       "        vertical-align: top;\n",
       "    }\n",
       "\n",
       "    .dataframe thead th {\n",
       "        text-align: right;\n",
       "    }\n",
       "</style>\n",
       "<table border=\"1\" class=\"dataframe\">\n",
       "  <thead>\n",
       "    <tr style=\"text-align: right;\">\n",
       "      <th></th>\n",
       "      <th>recipe_name</th>\n",
       "      <th>category_name</th>\n",
       "      <th>rating</th>\n",
       "      <th>prep_time</th>\n",
       "      <th>cook_time</th>\n",
       "      <th>additional_time</th>\n",
       "      <th>total_time</th>\n",
       "      <th>num_servings_per_recipe</th>\n",
       "      <th>ingredients_list</th>\n",
       "      <th>direction_list</th>\n",
       "      <th>...</th>\n",
       "      <th>carbs (g)</th>\n",
       "      <th>fiber (g)</th>\n",
       "      <th>sugar (g)</th>\n",
       "      <th>cholesterol (mg)</th>\n",
       "      <th>vitamin_c (mg)</th>\n",
       "      <th>calcium (mg)</th>\n",
       "      <th>iron (mg)</th>\n",
       "      <th>potassium (mg)</th>\n",
       "      <th>recipe_link</th>\n",
       "      <th>main_ingredients</th>\n",
       "    </tr>\n",
       "  </thead>\n",
       "  <tbody>\n",
       "    <tr>\n",
       "      <th>0</th>\n",
       "      <td>Air Fryer Spicy Onion Rings</td>\n",
       "      <td>Air Fryer Recipes</td>\n",
       "      <td>5.0</td>\n",
       "      <td>20.0</td>\n",
       "      <td>10.0</td>\n",
       "      <td>30.0</td>\n",
       "      <td>60.0</td>\n",
       "      <td>4</td>\n",
       "      <td>sweet onions, sliced 1/2 inch thick,buttermilk...</td>\n",
       "      <td>Whisk together buttermilk, egg, flour, chile ...</td>\n",
       "      <td>...</td>\n",
       "      <td>53.0</td>\n",
       "      <td>2.0</td>\n",
       "      <td>NaN</td>\n",
       "      <td>48.0</td>\n",
       "      <td>NaN</td>\n",
       "      <td>NaN</td>\n",
       "      <td>NaN</td>\n",
       "      <td>197.0</td>\n",
       "      <td>https://www.allrecipes.com/recipe/8465728/air-...</td>\n",
       "      <td>['bread', 'egg', 'flour', 'lime', 'milk', 'oni...</td>\n",
       "    </tr>\n",
       "    <tr>\n",
       "      <th>1</th>\n",
       "      <td>Stuffed Chicken Cordon Bleu</td>\n",
       "      <td>Chicken Cordon Bleu</td>\n",
       "      <td>5.0</td>\n",
       "      <td>20.0</td>\n",
       "      <td>40.0</td>\n",
       "      <td>15.0</td>\n",
       "      <td>75.0</td>\n",
       "      <td>4</td>\n",
       "      <td>skinless, boneless chicken breast halves,bacon...</td>\n",
       "      <td>Preheat the oven to 400 degrees F (200 degree...</td>\n",
       "      <td>...</td>\n",
       "      <td>44.0</td>\n",
       "      <td>3.0</td>\n",
       "      <td>8.0</td>\n",
       "      <td>291.0</td>\n",
       "      <td>3.0</td>\n",
       "      <td>636.0</td>\n",
       "      <td>4.0</td>\n",
       "      <td>969.0</td>\n",
       "      <td>https://www.allrecipes.com/recipe/283793/stuff...</td>\n",
       "      <td>['apple', 'bacon', 'bread', 'cheese', 'chicken...</td>\n",
       "    </tr>\n",
       "    <tr>\n",
       "      <th>2</th>\n",
       "      <td>Hearty Chicken Cacciatore Soup with Rice</td>\n",
       "      <td>Chicken Cacciatore</td>\n",
       "      <td>NaN</td>\n",
       "      <td>10.0</td>\n",
       "      <td>105.0</td>\n",
       "      <td>0.0</td>\n",
       "      <td>115.0</td>\n",
       "      <td>10</td>\n",
       "      <td>chicken broth,condensed tomato soup,water,dice...</td>\n",
       "      <td>Combine chicken broth, condensed soup, 2 cans...</td>\n",
       "      <td>...</td>\n",
       "      <td>35.0</td>\n",
       "      <td>2.0</td>\n",
       "      <td>NaN</td>\n",
       "      <td>38.0</td>\n",
       "      <td>NaN</td>\n",
       "      <td>NaN</td>\n",
       "      <td>NaN</td>\n",
       "      <td>406.0</td>\n",
       "      <td>https://www.allrecipes.com/recipe/8300735/hear...</td>\n",
       "      <td>['chicken', 'mushroom', 'onion', 'rice', 'toma...</td>\n",
       "    </tr>\n",
       "    <tr>\n",
       "      <th>3</th>\n",
       "      <td>Chicken and Dumplings with Biscuits</td>\n",
       "      <td>Chicken and Dumplings</td>\n",
       "      <td>4.1</td>\n",
       "      <td>NaN</td>\n",
       "      <td>NaN</td>\n",
       "      <td>NaN</td>\n",
       "      <td>NaN</td>\n",
       "      <td>8</td>\n",
       "      <td>whole chicken, cut into pieces,salt,freshly gr...</td>\n",
       "      <td>Put chicken pieces in a large pot over medium...</td>\n",
       "      <td>...</td>\n",
       "      <td>86.0</td>\n",
       "      <td>6.0</td>\n",
       "      <td>5.0</td>\n",
       "      <td>106.0</td>\n",
       "      <td>49.0</td>\n",
       "      <td>64.0</td>\n",
       "      <td>5.0</td>\n",
       "      <td>1398.0</td>\n",
       "      <td>https://www.allrecipes.com/recipe/8810/chicken...</td>\n",
       "      <td>['carrot', 'chicken', 'flour', 'potato']</td>\n",
       "    </tr>\n",
       "    <tr>\n",
       "      <th>4</th>\n",
       "      <td>Margo's Chicken Adobo</td>\n",
       "      <td>Chicken Adobo</td>\n",
       "      <td>4.5</td>\n",
       "      <td>10.0</td>\n",
       "      <td>60.0</td>\n",
       "      <td>0.0</td>\n",
       "      <td>70.0</td>\n",
       "      <td>8</td>\n",
       "      <td>canola oil,chicken drumsticks and thighs,onion...</td>\n",
       "      <td>Heat canola oil in a large Dutch oven over me...</td>\n",
       "      <td>...</td>\n",
       "      <td>7.0</td>\n",
       "      <td>1.0</td>\n",
       "      <td>2.0</td>\n",
       "      <td>96.0</td>\n",
       "      <td>3.0</td>\n",
       "      <td>40.0</td>\n",
       "      <td>3.0</td>\n",
       "      <td>347.0</td>\n",
       "      <td>https://www.allrecipes.com/recipe/218510/margo...</td>\n",
       "      <td>['apple', 'chicken', 'corn', 'onion']</td>\n",
       "    </tr>\n",
       "  </tbody>\n",
       "</table>\n",
       "<p>5 rows × 25 columns</p>\n",
       "</div>"
      ],
      "text/plain": [
       "                                recipe_name           category_name  rating  \\\n",
       "0               Air Fryer Spicy Onion Rings       Air Fryer Recipes     5.0   \n",
       "1               Stuffed Chicken Cordon Bleu     Chicken Cordon Bleu     5.0   \n",
       "2  Hearty Chicken Cacciatore Soup with Rice      Chicken Cacciatore     NaN   \n",
       "3       Chicken and Dumplings with Biscuits   Chicken and Dumplings     4.1   \n",
       "4                     Margo's Chicken Adobo           Chicken Adobo     4.5   \n",
       "\n",
       "   prep_time  cook_time  additional_time  total_time num_servings_per_recipe  \\\n",
       "0       20.0       10.0             30.0        60.0                      4    \n",
       "1       20.0       40.0             15.0        75.0                      4    \n",
       "2       10.0      105.0              0.0       115.0                     10    \n",
       "3        NaN        NaN              NaN         NaN                      8    \n",
       "4       10.0       60.0              0.0        70.0                      8    \n",
       "\n",
       "                                    ingredients_list  \\\n",
       "0  sweet onions, sliced 1/2 inch thick,buttermilk...   \n",
       "1  skinless, boneless chicken breast halves,bacon...   \n",
       "2  chicken broth,condensed tomato soup,water,dice...   \n",
       "3  whole chicken, cut into pieces,salt,freshly gr...   \n",
       "4  canola oil,chicken drumsticks and thighs,onion...   \n",
       "\n",
       "                                      direction_list  ...  carbs (g)  \\\n",
       "0   Whisk together buttermilk, egg, flour, chile ...  ...       53.0   \n",
       "1   Preheat the oven to 400 degrees F (200 degree...  ...       44.0   \n",
       "2   Combine chicken broth, condensed soup, 2 cans...  ...       35.0   \n",
       "3   Put chicken pieces in a large pot over medium...  ...       86.0   \n",
       "4   Heat canola oil in a large Dutch oven over me...  ...        7.0   \n",
       "\n",
       "   fiber (g)  sugar (g)  cholesterol (mg)  vitamin_c (mg)  calcium (mg)  \\\n",
       "0        2.0        NaN              48.0             NaN           NaN   \n",
       "1        3.0        8.0             291.0             3.0         636.0   \n",
       "2        2.0        NaN              38.0             NaN           NaN   \n",
       "3        6.0        5.0             106.0            49.0          64.0   \n",
       "4        1.0        2.0              96.0             3.0          40.0   \n",
       "\n",
       "   iron (mg)  potassium (mg)  \\\n",
       "0        NaN           197.0   \n",
       "1        4.0           969.0   \n",
       "2        NaN           406.0   \n",
       "3        5.0          1398.0   \n",
       "4        3.0           347.0   \n",
       "\n",
       "                                         recipe_link  \\\n",
       "0  https://www.allrecipes.com/recipe/8465728/air-...   \n",
       "1  https://www.allrecipes.com/recipe/283793/stuff...   \n",
       "2  https://www.allrecipes.com/recipe/8300735/hear...   \n",
       "3  https://www.allrecipes.com/recipe/8810/chicken...   \n",
       "4  https://www.allrecipes.com/recipe/218510/margo...   \n",
       "\n",
       "                                    main_ingredients  \n",
       "0  ['bread', 'egg', 'flour', 'lime', 'milk', 'oni...  \n",
       "1  ['apple', 'bacon', 'bread', 'cheese', 'chicken...  \n",
       "2  ['chicken', 'mushroom', 'onion', 'rice', 'toma...  \n",
       "3           ['carrot', 'chicken', 'flour', 'potato']  \n",
       "4              ['apple', 'chicken', 'corn', 'onion']  \n",
       "\n",
       "[5 rows x 25 columns]"
      ]
     },
     "execution_count": 5,
     "metadata": {},
     "output_type": "execute_result"
    }
   ],
   "source": [
    "import pandas as pd\n",
    "recipes = pd.read_csv(\"cleaned_recipes.csv\")\n",
    "recipes.head()"
   ]
  },
  {
   "cell_type": "code",
   "execution_count": 6,
   "metadata": {},
   "outputs": [
    {
     "data": {
      "text/plain": [
       "'Whisk together buttermilk, egg, flour, chile and lime seasoning, and adobo seasoning for the batter in a shallow bowl. Cover and refrigerate for 30 minutes.\\n Combine panko, adobo seasoning, and chile and lime seasoning in a shallow dish; mix well. Remove batter from the fridge. Dip onion rings first into the batter, then into bread crumb mixture, turning to coat, and gently shake off excess crumbs. Lightly spritz the onion rings with cooking spray on both sides.\\n Preheat the air fryer to 340 degrees F (170 degrees C). Line the air fryer basket with a parchment liner or lightly spray with oil.\\n Place the breaded onion rings into the fryer basket in an even layer, leaving about 1/2-inch space between the slices.\\n Cook until crisp and lightly browned, flipping halfway through, 10 to 12 minutes. You may have to cook in batches, and cooking time may vary depending on the size and brand of your air fryer.\\n Remove from the air fryer, transfer to a baking sheet, sprinkle with kosher salt, and place in a 250 degrees F (120 degrees C) oven to keep warm.'"
      ]
     },
     "execution_count": 6,
     "metadata": {},
     "output_type": "execute_result"
    }
   ],
   "source": [
    "recipes[\"direction_list\"][0].strip()"
   ]
  },
  {
   "attachments": {},
   "cell_type": "markdown",
   "metadata": {},
   "source": [
    "### Preparing values in `recipes` dataframe"
   ]
  },
  {
   "cell_type": "code",
   "execution_count": 7,
   "metadata": {},
   "outputs": [
    {
     "data": {
      "text/plain": [
       "0          [bread,  egg,  flour,  lime,  milk,  onion]\n",
       "1    [apple,  bacon,  bread,  cheese,  chicken,  co...\n",
       "2       [chicken,  mushroom,  onion,  rice,  tomatoes]\n",
       "3                  [carrot,  chicken,  flour,  potato]\n",
       "4                     [apple,  chicken,  corn,  onion]\n",
       "Name: main_ingredients, dtype: object"
      ]
     },
     "execution_count": 7,
     "metadata": {},
     "output_type": "execute_result"
    }
   ],
   "source": [
    "# converting values in \"main_ingredients\" column into lists\n",
    "def clean_main_ingredients(ingredient_string):\n",
    "    \"\"\" Converts main_ingredients string into a list of ingredients\"\"\"\n",
    "    return ingredient_string.replace(\"[\", \"\").replace(\"]\", \"\").replace(\"'\", \"\").split(\",\")\n",
    "\n",
    "recipes[\"main_ingredients\"] = recipes[\"main_ingredients\"].apply(clean_main_ingredients)\n",
    "recipes[\"main_ingredients\"].head()"
   ]
  },
  {
   "cell_type": "code",
   "execution_count": 8,
   "metadata": {},
   "outputs": [
    {
     "data": {
      "text/plain": [
       "0    [ Whisk together buttermilk, egg, flour, chile...\n",
       "1    [ Preheat the oven to 400 degrees F (200 degre...\n",
       "2    [ Combine chicken broth, condensed soup, 2 can...\n",
       "3    [ Put chicken pieces in a large pot over mediu...\n",
       "4    [ Heat canola oil in a large Dutch oven over m...\n",
       "Name: direction_list, dtype: object"
      ]
     },
     "execution_count": 8,
     "metadata": {},
     "output_type": "execute_result"
    }
   ],
   "source": [
    "# converting values in \"directions\" into lists\n",
    "def clean_directions(direction_string):\n",
    "    \"\"\" Converts direction_string into a list of directions\"\"\"\n",
    "    return direction_string.replace(\"\\n\", '').split(\". \")\n",
    "\n",
    "recipes[\"direction_list\"] = recipes[\"direction_list\"].apply(clean_directions)\n",
    "recipes[\"direction_list\"].head()"
   ]
  },
  {
   "cell_type": "code",
   "execution_count": 9,
   "metadata": {},
   "outputs": [
    {
     "data": {
      "text/plain": [
       "0     [60.0]\n",
       "1     [75.0]\n",
       "2    [115.0]\n",
       "3      [nan]\n",
       "4     [70.0]\n",
       "Name: total_time, dtype: object"
      ]
     },
     "execution_count": 9,
     "metadata": {},
     "output_type": "execute_result"
    }
   ],
   "source": [
    "recipes[\"total_time\"] = recipes[\"total_time\"].apply(lambda x: [x])\n",
    "recipes[\"total_time\"].head()"
   ]
  },
  {
   "cell_type": "code",
   "execution_count": 10,
   "metadata": {},
   "outputs": [
    {
     "data": {
      "text/plain": [
       "0    [RECIPE_START] Ingredients: ['bread', ' egg', ...\n",
       "1    [RECIPE_START] Ingredients: ['apple', ' bacon'...\n",
       "2    [RECIPE_START] Ingredients: ['chicken', ' mush...\n",
       "3    [RECIPE_START] Ingredients: ['carrot', ' chick...\n",
       "4    [RECIPE_START] Ingredients: ['apple', ' chicke...\n",
       "Name: formatted_text, dtype: object"
      ]
     },
     "execution_count": 10,
     "metadata": {},
     "output_type": "execute_result"
    }
   ],
   "source": [
    "# takes in each row in recipes df and formats it into\n",
    "# a string that starts and ends with special tokens \n",
    "# [RECIPE_START] and [RECIPE_END], which helps\n",
    "# model recognize the beginning and end of each recipe\n",
    "recipes['formatted_text'] = recipes.apply(lambda row: f\"[RECIPE_START] Ingredients: {row['main_ingredients']} Total Time: {row['total_time']} minutes Directions: {row['direction_list']} [RECIPE_END]\", axis=1)\n",
    "recipes['formatted_text'].head()"
   ]
  },
  {
   "cell_type": "code",
   "execution_count": 11,
   "metadata": {},
   "outputs": [],
   "source": [
    "recipes = recipes[[\"main_ingredients\", \"total_time\", \"direction_list\", \"formatted_text\"]]\n",
    "recipes.rename(columns={'main_ingredients': 'ingredients',\n",
    "                        'direction_list': 'directions'}, inplace=True)"
   ]
  },
  {
   "cell_type": "code",
   "execution_count": 12,
   "metadata": {},
   "outputs": [
    {
     "name": "stderr",
     "output_type": "stream",
     "text": [
      "huggingface/tokenizers: The current process just got forked, after parallelism has already been used. Disabling parallelism to avoid deadlocks...\n",
      "To disable this warning, you can either:\n",
      "\t- Avoid using `tokenizers` before the fork if possible\n",
      "\t- Explicitly set the environment variable TOKENIZERS_PARALLELISM=(true | false)\n"
     ]
    },
    {
     "data": {
      "application/vnd.jupyter.widget-view+json": {
       "model_id": "8d1a6640381742a3a7a3ba0e00cba237",
       "version_major": 2,
       "version_minor": 0
      },
      "text/plain": [
       "Map:   0%|          | 0/14480 [00:00<?, ? examples/s]"
      ]
     },
     "metadata": {},
     "output_type": "display_data"
    }
   ],
   "source": [
    "from transformers import GPT2Tokenizer, GPT2LMHeadModel, Trainer, TrainingArguments\n",
    "import pandas as pd\n",
    "from datasets import Dataset\n",
    "\n",
    "# Load the tokenizer and the model\n",
    "tokenizer = GPT2Tokenizer.from_pretrained('gpt2')\n",
    "model = GPT2LMHeadModel.from_pretrained('gpt2')\n",
    "\n",
    "# Set the EOS token as the padding token\n",
    "tokenizer.pad_token = tokenizer.eos_token\n",
    "\n",
    "# Resize the token embeddings \n",
    "model.resize_token_embeddings(len(tokenizer))\n",
    "\n",
    "# Convert DataFrame to Hugging Face dataset\n",
    "hf_dataset = Dataset.from_pandas(recipes)\n",
    "\n",
    "# Tokenize the dataset\n",
    "def tokenize_function(examples):\n",
    "    return tokenizer(examples['formatted_text'], truncation=True, padding=\"max_length\", max_length=512)\n",
    "\n",
    "tokenized_data = hf_dataset.map(tokenize_function, batched=True)"
   ]
  },
  {
   "attachments": {},
   "cell_type": "markdown",
   "metadata": {},
   "source": [
    "### Attempt to find tune GPT-2 model using scraped recipes....\n",
    "* haven't run the following code to completion (took 7 mins to complete 1% training; made computer very laggy)"
   ]
  },
  {
   "cell_type": "code",
   "execution_count": 14,
   "metadata": {},
   "outputs": [
    {
     "data": {
      "application/vnd.jupyter.widget-view+json": {
       "model_id": "7879e878299047cf9017fb859908080a",
       "version_major": 2,
       "version_minor": 0
      },
      "text/plain": [
       "Map:   0%|          | 0/13032 [00:00<?, ? examples/s]"
      ]
     },
     "metadata": {},
     "output_type": "display_data"
    },
    {
     "data": {
      "application/vnd.jupyter.widget-view+json": {
       "model_id": "a39fd9f092ef4ebebab3266f8d3ac1b2",
       "version_major": 2,
       "version_minor": 0
      },
      "text/plain": [
       "Map:   0%|          | 0/1448 [00:00<?, ? examples/s]"
      ]
     },
     "metadata": {},
     "output_type": "display_data"
    },
    {
     "data": {
      "application/vnd.jupyter.widget-view+json": {
       "model_id": "6dd7940368bf40aa9997bc5adc72e340",
       "version_major": 2,
       "version_minor": 0
      },
      "text/plain": [
       "  0%|          | 0/9774 [00:00<?, ?it/s]"
      ]
     },
     "metadata": {},
     "output_type": "display_data"
    },
    {
     "name": "stderr",
     "output_type": "stream",
     "text": [
      "huggingface/tokenizers: The current process just got forked, after parallelism has already been used. Disabling parallelism to avoid deadlocks...\n",
      "To disable this warning, you can either:\n",
      "\t- Avoid using `tokenizers` before the fork if possible\n",
      "\t- Explicitly set the environment variable TOKENIZERS_PARALLELISM=(true | false)\n",
      "huggingface/tokenizers: The current process just got forked, after parallelism has already been used. Disabling parallelism to avoid deadlocks...\n",
      "To disable this warning, you can either:\n",
      "\t- Avoid using `tokenizers` before the fork if possible\n",
      "\t- Explicitly set the environment variable TOKENIZERS_PARALLELISM=(true | false)\n",
      "huggingface/tokenizers: The current process just got forked, after parallelism has already been used. Disabling parallelism to avoid deadlocks...\n",
      "To disable this warning, you can either:\n",
      "\t- Avoid using `tokenizers` before the fork if possible\n",
      "\t- Explicitly set the environment variable TOKENIZERS_PARALLELISM=(true | false)\n",
      "huggingface/tokenizers: The current process just got forked, after parallelism has already been used. Disabling parallelism to avoid deadlocks...\n",
      "To disable this warning, you can either:\n",
      "\t- Avoid using `tokenizers` before the fork if possible\n",
      "\t- Explicitly set the environment variable TOKENIZERS_PARALLELISM=(true | false)\n"
     ]
    }
   ],
   "source": [
    "# fine-tune GPT-2 model\n",
    "from datasets import Dataset, DatasetDict\n",
    "from transformers import GPT2LMHeadModel, Trainer, TrainingArguments\n",
    "\n",
    "# split data set into train and test\n",
    "split_datasets = tokenized_data.train_test_split(test_size=0.1) \n",
    "dataset_dict = DatasetDict({\n",
    "    'train': split_datasets['train'],\n",
    "    'test': split_datasets['test']\n",
    "})\n",
    "\n",
    "def add_labels(examples):\n",
    "    # The labels are the same as the input_ids for language modeling tasks\n",
    "    examples['labels'] = examples['input_ids'].copy()\n",
    "    return examples\n",
    "\n",
    "# Apply the function to add labels\n",
    "dataset_dict = dataset_dict.map(add_labels)\n",
    "\n",
    "# Resize model embeddings to accommodate new tokens\n",
    "model.resize_token_embeddings(len(tokenizer))\n",
    "\n",
    "# Set up training arguments\n",
    "training_args = TrainingArguments(\n",
    "    output_dir='./results',\n",
    "    num_train_epochs=3,\n",
    "    per_device_train_batch_size=1,\n",
    "    gradient_accumulation_steps=4,\n",
    "    per_device_eval_batch_size=2,\n",
    "    save_steps=500,\n",
    "    save_total_limit=2,\n",
    "    warmup_steps=500,\n",
    "    weight_decay=0.01,\n",
    "    logging_dir='./logs',\n",
    "    logging_steps=10,\n",
    "    dataloader_num_workers=4\n",
    ")\n",
    "\n",
    "# Initialize Trainer\n",
    "trainer = Trainer(\n",
    "    model=model,\n",
    "    args=training_args,\n",
    "    train_dataset=dataset_dict['train'],\n",
    "    eval_dataset=dataset_dict['test']\n",
    ")\n",
    "\n",
    "# Start training\n",
    "trainer.train()"
   ]
  },
  {
   "cell_type": "code",
   "execution_count": null,
   "metadata": {},
   "outputs": [],
   "source": [
    "trainer.save_model(\"./fine_tuned_recipe_model\")\n",
    "tokenizer.save_pretrained(\"./fine_tuned_recipe_model\")"
   ]
  },
  {
   "cell_type": "code",
   "execution_count": null,
   "metadata": {},
   "outputs": [],
   "source": [
    "# Load the model and tokenizer\n",
    "model_tuned = GPT2LMHeadModel.from_pretrained(\"./fine_tuned_recipe_model\")\n",
    "tokenizer = GPT2Tokenizer.from_pretrained(\"./fine_tuned_recipe_model\")"
   ]
  },
  {
   "cell_type": "code",
   "execution_count": null,
   "metadata": {},
   "outputs": [],
   "source": [
    "# Generate response using the encoded inputs and attention mask\n",
    "output_tuned = model_tuned.generate(\n",
    "    input_ids=inputs['input_ids'],\n",
    "    attention_mask=attention_mask,\n",
    "    max_length=250,\n",
    "    num_beams=5,\n",
    "    no_repeat_ngram_size=2,\n",
    "    early_stopping=True,\n",
    "    temperature=0.9,\n",
    "    eos_token_id=tokenizer.eos_token_id\n",
    ")\n",
    "\n",
    "# Decode and print the generated recipe\n",
    "generated_recipe2 = tokenizer.decode(output_tuned[0], skip_special_tokens=True)\n",
    "print(generated_recipe2)"
   ]
  }
 ],
 "metadata": {
  "kernelspec": {
   "display_name": "pic16B",
   "language": "python",
   "name": "python3"
  },
  "language_info": {
   "codemirror_mode": {
    "name": "ipython",
    "version": 3
   },
   "file_extension": ".py",
   "mimetype": "text/x-python",
   "name": "python",
   "nbconvert_exporter": "python",
   "pygments_lexer": "ipython3",
   "version": "3.12.4"
  },
  "orig_nbformat": 4
 },
 "nbformat": 4,
 "nbformat_minor": 2
}
